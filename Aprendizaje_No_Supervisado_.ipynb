{
  "cells": [
    {
      "cell_type": "markdown",
      "source": [
        "###**Aprendizaje No Supervisado**"
      ],
      "metadata": {
        "id": "x3nsrg0UtDyr"
      },
      "id": "x3nsrg0UtDyr"
    },
    {
      "cell_type": "code",
      "execution_count": 1,
      "id": "8c52ee74-f2f9-425f-8bbb-747c2aabfae4",
      "metadata": {
        "id": "8c52ee74-f2f9-425f-8bbb-747c2aabfae4"
      },
      "outputs": [],
      "source": [
        "import numpy as np\n",
        "import matplotlib.pyplot as plt\n",
        "import seaborn as sns\n",
        "import pandas as pd\n",
        "from sklearn.cluster import KMeans\n",
        "from sklearn.preprocessing import StandardScaler\n",
        "\n",
        "#ignorar warning para que quede mejor el notebook\n",
        "import warnings\n",
        "warnings.filterwarnings('ignore')"
      ]
    },
    {
      "cell_type": "code",
      "execution_count": 2,
      "id": "966457ea-99c4-4c64-a41b-f0368946b8f6",
      "metadata": {
        "id": "966457ea-99c4-4c64-a41b-f0368946b8f6"
      },
      "outputs": [],
      "source": [
        "df = pd.read_csv('covid-vaccination-vs-death_ratio.csv')"
      ]
    },
    {
      "cell_type": "code",
      "execution_count": 3,
      "id": "8fedd637-be04-4f1c-b4c9-fa7c9635c5fc",
      "metadata": {
        "colab": {
          "base_uri": "https://localhost:8080/",
          "height": 206
        },
        "id": "8fedd637-be04-4f1c-b4c9-fa7c9635c5fc",
        "outputId": "0ef08a8e-c54f-4dd4-8f56-b259c74d0275"
      },
      "outputs": [
        {
          "output_type": "execute_result",
          "data": {
            "text/plain": [
              "   Unnamed: 0      country iso_code        date  total_vaccinations  \\\n",
              "0           0  Afghanistan      AFG  2021-05-11            504502.0   \n",
              "1           1  Afghanistan      AFG  2021-05-20            547901.0   \n",
              "2           2  Afghanistan      AFG  2021-05-24            573277.0   \n",
              "3           3  Afghanistan      AFG  2021-05-26            590454.0   \n",
              "4           4  Afghanistan      AFG  2021-05-27            593313.0   \n",
              "\n",
              "   people_vaccinated  people_fully_vaccinated  New_deaths  population  \\\n",
              "0           448878.0                  55624.0          12  40374668.0   \n",
              "1           470341.0                  77560.0          10  40374668.0   \n",
              "2           476367.0                  96910.0          10  40374668.0   \n",
              "3           479372.0                 111082.0          19  40374668.0   \n",
              "4           479574.0                 113739.0          14  40374668.0   \n",
              "\n",
              "      ratio  \n",
              "0  1.111781  \n",
              "1  1.164941  \n",
              "2  1.179866  \n",
              "3  1.187309  \n",
              "4  1.187809  "
            ],
            "text/html": [
              "\n",
              "  <div id=\"df-45a96344-1f32-4bab-ae4a-1c16d12a1737\" class=\"colab-df-container\">\n",
              "    <div>\n",
              "<style scoped>\n",
              "    .dataframe tbody tr th:only-of-type {\n",
              "        vertical-align: middle;\n",
              "    }\n",
              "\n",
              "    .dataframe tbody tr th {\n",
              "        vertical-align: top;\n",
              "    }\n",
              "\n",
              "    .dataframe thead th {\n",
              "        text-align: right;\n",
              "    }\n",
              "</style>\n",
              "<table border=\"1\" class=\"dataframe\">\n",
              "  <thead>\n",
              "    <tr style=\"text-align: right;\">\n",
              "      <th></th>\n",
              "      <th>Unnamed: 0</th>\n",
              "      <th>country</th>\n",
              "      <th>iso_code</th>\n",
              "      <th>date</th>\n",
              "      <th>total_vaccinations</th>\n",
              "      <th>people_vaccinated</th>\n",
              "      <th>people_fully_vaccinated</th>\n",
              "      <th>New_deaths</th>\n",
              "      <th>population</th>\n",
              "      <th>ratio</th>\n",
              "    </tr>\n",
              "  </thead>\n",
              "  <tbody>\n",
              "    <tr>\n",
              "      <th>0</th>\n",
              "      <td>0</td>\n",
              "      <td>Afghanistan</td>\n",
              "      <td>AFG</td>\n",
              "      <td>2021-05-11</td>\n",
              "      <td>504502.0</td>\n",
              "      <td>448878.0</td>\n",
              "      <td>55624.0</td>\n",
              "      <td>12</td>\n",
              "      <td>40374668.0</td>\n",
              "      <td>1.111781</td>\n",
              "    </tr>\n",
              "    <tr>\n",
              "      <th>1</th>\n",
              "      <td>1</td>\n",
              "      <td>Afghanistan</td>\n",
              "      <td>AFG</td>\n",
              "      <td>2021-05-20</td>\n",
              "      <td>547901.0</td>\n",
              "      <td>470341.0</td>\n",
              "      <td>77560.0</td>\n",
              "      <td>10</td>\n",
              "      <td>40374668.0</td>\n",
              "      <td>1.164941</td>\n",
              "    </tr>\n",
              "    <tr>\n",
              "      <th>2</th>\n",
              "      <td>2</td>\n",
              "      <td>Afghanistan</td>\n",
              "      <td>AFG</td>\n",
              "      <td>2021-05-24</td>\n",
              "      <td>573277.0</td>\n",
              "      <td>476367.0</td>\n",
              "      <td>96910.0</td>\n",
              "      <td>10</td>\n",
              "      <td>40374668.0</td>\n",
              "      <td>1.179866</td>\n",
              "    </tr>\n",
              "    <tr>\n",
              "      <th>3</th>\n",
              "      <td>3</td>\n",
              "      <td>Afghanistan</td>\n",
              "      <td>AFG</td>\n",
              "      <td>2021-05-26</td>\n",
              "      <td>590454.0</td>\n",
              "      <td>479372.0</td>\n",
              "      <td>111082.0</td>\n",
              "      <td>19</td>\n",
              "      <td>40374668.0</td>\n",
              "      <td>1.187309</td>\n",
              "    </tr>\n",
              "    <tr>\n",
              "      <th>4</th>\n",
              "      <td>4</td>\n",
              "      <td>Afghanistan</td>\n",
              "      <td>AFG</td>\n",
              "      <td>2021-05-27</td>\n",
              "      <td>593313.0</td>\n",
              "      <td>479574.0</td>\n",
              "      <td>113739.0</td>\n",
              "      <td>14</td>\n",
              "      <td>40374668.0</td>\n",
              "      <td>1.187809</td>\n",
              "    </tr>\n",
              "  </tbody>\n",
              "</table>\n",
              "</div>\n",
              "    <div class=\"colab-df-buttons\">\n",
              "\n",
              "  <div class=\"colab-df-container\">\n",
              "    <button class=\"colab-df-convert\" onclick=\"convertToInteractive('df-45a96344-1f32-4bab-ae4a-1c16d12a1737')\"\n",
              "            title=\"Convert this dataframe to an interactive table.\"\n",
              "            style=\"display:none;\">\n",
              "\n",
              "  <svg xmlns=\"http://www.w3.org/2000/svg\" height=\"24px\" viewBox=\"0 -960 960 960\">\n",
              "    <path d=\"M120-120v-720h720v720H120Zm60-500h600v-160H180v160Zm220 220h160v-160H400v160Zm0 220h160v-160H400v160ZM180-400h160v-160H180v160Zm440 0h160v-160H620v160ZM180-180h160v-160H180v160Zm440 0h160v-160H620v160Z\"/>\n",
              "  </svg>\n",
              "    </button>\n",
              "\n",
              "  <style>\n",
              "    .colab-df-container {\n",
              "      display:flex;\n",
              "      gap: 12px;\n",
              "    }\n",
              "\n",
              "    .colab-df-convert {\n",
              "      background-color: #E8F0FE;\n",
              "      border: none;\n",
              "      border-radius: 50%;\n",
              "      cursor: pointer;\n",
              "      display: none;\n",
              "      fill: #1967D2;\n",
              "      height: 32px;\n",
              "      padding: 0 0 0 0;\n",
              "      width: 32px;\n",
              "    }\n",
              "\n",
              "    .colab-df-convert:hover {\n",
              "      background-color: #E2EBFA;\n",
              "      box-shadow: 0px 1px 2px rgba(60, 64, 67, 0.3), 0px 1px 3px 1px rgba(60, 64, 67, 0.15);\n",
              "      fill: #174EA6;\n",
              "    }\n",
              "\n",
              "    .colab-df-buttons div {\n",
              "      margin-bottom: 4px;\n",
              "    }\n",
              "\n",
              "    [theme=dark] .colab-df-convert {\n",
              "      background-color: #3B4455;\n",
              "      fill: #D2E3FC;\n",
              "    }\n",
              "\n",
              "    [theme=dark] .colab-df-convert:hover {\n",
              "      background-color: #434B5C;\n",
              "      box-shadow: 0px 1px 3px 1px rgba(0, 0, 0, 0.15);\n",
              "      filter: drop-shadow(0px 1px 2px rgba(0, 0, 0, 0.3));\n",
              "      fill: #FFFFFF;\n",
              "    }\n",
              "  </style>\n",
              "\n",
              "    <script>\n",
              "      const buttonEl =\n",
              "        document.querySelector('#df-45a96344-1f32-4bab-ae4a-1c16d12a1737 button.colab-df-convert');\n",
              "      buttonEl.style.display =\n",
              "        google.colab.kernel.accessAllowed ? 'block' : 'none';\n",
              "\n",
              "      async function convertToInteractive(key) {\n",
              "        const element = document.querySelector('#df-45a96344-1f32-4bab-ae4a-1c16d12a1737');\n",
              "        const dataTable =\n",
              "          await google.colab.kernel.invokeFunction('convertToInteractive',\n",
              "                                                    [key], {});\n",
              "        if (!dataTable) return;\n",
              "\n",
              "        const docLinkHtml = 'Like what you see? Visit the ' +\n",
              "          '<a target=\"_blank\" href=https://colab.research.google.com/notebooks/data_table.ipynb>data table notebook</a>'\n",
              "          + ' to learn more about interactive tables.';\n",
              "        element.innerHTML = '';\n",
              "        dataTable['output_type'] = 'display_data';\n",
              "        await google.colab.output.renderOutput(dataTable, element);\n",
              "        const docLink = document.createElement('div');\n",
              "        docLink.innerHTML = docLinkHtml;\n",
              "        element.appendChild(docLink);\n",
              "      }\n",
              "    </script>\n",
              "  </div>\n",
              "\n",
              "\n",
              "<div id=\"df-dd6167fe-a91c-44c9-97c8-50272034aca3\">\n",
              "  <button class=\"colab-df-quickchart\" onclick=\"quickchart('df-dd6167fe-a91c-44c9-97c8-50272034aca3')\"\n",
              "            title=\"Suggest charts.\"\n",
              "            style=\"display:none;\">\n",
              "\n",
              "<svg xmlns=\"http://www.w3.org/2000/svg\" height=\"24px\"viewBox=\"0 0 24 24\"\n",
              "     width=\"24px\">\n",
              "    <g>\n",
              "        <path d=\"M19 3H5c-1.1 0-2 .9-2 2v14c0 1.1.9 2 2 2h14c1.1 0 2-.9 2-2V5c0-1.1-.9-2-2-2zM9 17H7v-7h2v7zm4 0h-2V7h2v10zm4 0h-2v-4h2v4z\"/>\n",
              "    </g>\n",
              "</svg>\n",
              "  </button>\n",
              "\n",
              "<style>\n",
              "  .colab-df-quickchart {\n",
              "      --bg-color: #E8F0FE;\n",
              "      --fill-color: #1967D2;\n",
              "      --hover-bg-color: #E2EBFA;\n",
              "      --hover-fill-color: #174EA6;\n",
              "      --disabled-fill-color: #AAA;\n",
              "      --disabled-bg-color: #DDD;\n",
              "  }\n",
              "\n",
              "  [theme=dark] .colab-df-quickchart {\n",
              "      --bg-color: #3B4455;\n",
              "      --fill-color: #D2E3FC;\n",
              "      --hover-bg-color: #434B5C;\n",
              "      --hover-fill-color: #FFFFFF;\n",
              "      --disabled-bg-color: #3B4455;\n",
              "      --disabled-fill-color: #666;\n",
              "  }\n",
              "\n",
              "  .colab-df-quickchart {\n",
              "    background-color: var(--bg-color);\n",
              "    border: none;\n",
              "    border-radius: 50%;\n",
              "    cursor: pointer;\n",
              "    display: none;\n",
              "    fill: var(--fill-color);\n",
              "    height: 32px;\n",
              "    padding: 0;\n",
              "    width: 32px;\n",
              "  }\n",
              "\n",
              "  .colab-df-quickchart:hover {\n",
              "    background-color: var(--hover-bg-color);\n",
              "    box-shadow: 0 1px 2px rgba(60, 64, 67, 0.3), 0 1px 3px 1px rgba(60, 64, 67, 0.15);\n",
              "    fill: var(--button-hover-fill-color);\n",
              "  }\n",
              "\n",
              "  .colab-df-quickchart-complete:disabled,\n",
              "  .colab-df-quickchart-complete:disabled:hover {\n",
              "    background-color: var(--disabled-bg-color);\n",
              "    fill: var(--disabled-fill-color);\n",
              "    box-shadow: none;\n",
              "  }\n",
              "\n",
              "  .colab-df-spinner {\n",
              "    border: 2px solid var(--fill-color);\n",
              "    border-color: transparent;\n",
              "    border-bottom-color: var(--fill-color);\n",
              "    animation:\n",
              "      spin 1s steps(1) infinite;\n",
              "  }\n",
              "\n",
              "  @keyframes spin {\n",
              "    0% {\n",
              "      border-color: transparent;\n",
              "      border-bottom-color: var(--fill-color);\n",
              "      border-left-color: var(--fill-color);\n",
              "    }\n",
              "    20% {\n",
              "      border-color: transparent;\n",
              "      border-left-color: var(--fill-color);\n",
              "      border-top-color: var(--fill-color);\n",
              "    }\n",
              "    30% {\n",
              "      border-color: transparent;\n",
              "      border-left-color: var(--fill-color);\n",
              "      border-top-color: var(--fill-color);\n",
              "      border-right-color: var(--fill-color);\n",
              "    }\n",
              "    40% {\n",
              "      border-color: transparent;\n",
              "      border-right-color: var(--fill-color);\n",
              "      border-top-color: var(--fill-color);\n",
              "    }\n",
              "    60% {\n",
              "      border-color: transparent;\n",
              "      border-right-color: var(--fill-color);\n",
              "    }\n",
              "    80% {\n",
              "      border-color: transparent;\n",
              "      border-right-color: var(--fill-color);\n",
              "      border-bottom-color: var(--fill-color);\n",
              "    }\n",
              "    90% {\n",
              "      border-color: transparent;\n",
              "      border-bottom-color: var(--fill-color);\n",
              "    }\n",
              "  }\n",
              "</style>\n",
              "\n",
              "  <script>\n",
              "    async function quickchart(key) {\n",
              "      const quickchartButtonEl =\n",
              "        document.querySelector('#' + key + ' button');\n",
              "      quickchartButtonEl.disabled = true;  // To prevent multiple clicks.\n",
              "      quickchartButtonEl.classList.add('colab-df-spinner');\n",
              "      try {\n",
              "        const charts = await google.colab.kernel.invokeFunction(\n",
              "            'suggestCharts', [key], {});\n",
              "      } catch (error) {\n",
              "        console.error('Error during call to suggestCharts:', error);\n",
              "      }\n",
              "      quickchartButtonEl.classList.remove('colab-df-spinner');\n",
              "      quickchartButtonEl.classList.add('colab-df-quickchart-complete');\n",
              "    }\n",
              "    (() => {\n",
              "      let quickchartButtonEl =\n",
              "        document.querySelector('#df-dd6167fe-a91c-44c9-97c8-50272034aca3 button');\n",
              "      quickchartButtonEl.style.display =\n",
              "        google.colab.kernel.accessAllowed ? 'block' : 'none';\n",
              "    })();\n",
              "  </script>\n",
              "</div>\n",
              "    </div>\n",
              "  </div>\n"
            ]
          },
          "metadata": {},
          "execution_count": 3
        }
      ],
      "source": [
        "df.head()"
      ]
    },
    {
      "cell_type": "code",
      "execution_count": 4,
      "id": "86453128-fcbd-4dc2-ae9f-1e8cde40a9ec",
      "metadata": {
        "colab": {
          "base_uri": "https://localhost:8080/",
          "height": 0
        },
        "id": "86453128-fcbd-4dc2-ae9f-1e8cde40a9ec",
        "outputId": "3f42cf85-9d01-4c48-e1e2-1bd159a67789"
      },
      "outputs": [
        {
          "output_type": "execute_result",
          "data": {
            "text/plain": [
              "(32911, 10)"
            ]
          },
          "metadata": {},
          "execution_count": 4
        }
      ],
      "source": [
        "df.shape"
      ]
    },
    {
      "cell_type": "code",
      "execution_count": 5,
      "id": "b068c231-1aae-4e86-914c-3d905377212e",
      "metadata": {
        "colab": {
          "base_uri": "https://localhost:8080/",
          "height": 0
        },
        "id": "b068c231-1aae-4e86-914c-3d905377212e",
        "outputId": "d29419c5-7327-457b-881e-41003473b302"
      },
      "outputs": [
        {
          "output_type": "execute_result",
          "data": {
            "text/plain": [
              "Index(['Unnamed: 0', 'country', 'iso_code', 'date', 'total_vaccinations',\n",
              "       'people_vaccinated', 'people_fully_vaccinated', 'New_deaths',\n",
              "       'population', 'ratio'],\n",
              "      dtype='object')"
            ]
          },
          "metadata": {},
          "execution_count": 5
        }
      ],
      "source": [
        "df.columns"
      ]
    },
    {
      "cell_type": "code",
      "execution_count": 6,
      "id": "70977114-8d7b-444b-acdc-22a339616b2f",
      "metadata": {
        "colab": {
          "base_uri": "https://localhost:8080/",
          "height": 0
        },
        "id": "70977114-8d7b-444b-acdc-22a339616b2f",
        "outputId": "347bd595-7a2f-46b6-88ad-bb083ccc711a"
      },
      "outputs": [
        {
          "output_type": "stream",
          "name": "stdout",
          "text": [
            "<class 'pandas.core.frame.DataFrame'>\n",
            "RangeIndex: 32911 entries, 0 to 32910\n",
            "Data columns (total 10 columns):\n",
            " #   Column                   Non-Null Count  Dtype  \n",
            "---  ------                   --------------  -----  \n",
            " 0   Unnamed: 0               32911 non-null  int64  \n",
            " 1   country                  32911 non-null  object \n",
            " 2   iso_code                 32911 non-null  object \n",
            " 3   date                     32911 non-null  object \n",
            " 4   total_vaccinations       32911 non-null  float64\n",
            " 5   people_vaccinated        32911 non-null  float64\n",
            " 6   people_fully_vaccinated  32911 non-null  float64\n",
            " 7   New_deaths               32911 non-null  int64  \n",
            " 8   population               32911 non-null  float64\n",
            " 9   ratio                    32911 non-null  float64\n",
            "dtypes: float64(5), int64(2), object(3)\n",
            "memory usage: 2.5+ MB\n"
          ]
        }
      ],
      "source": [
        "df.info()"
      ]
    },
    {
      "cell_type": "code",
      "execution_count": 7,
      "id": "e769e413-8180-4563-8022-177c802294cb",
      "metadata": {
        "colab": {
          "base_uri": "https://localhost:8080/",
          "height": 0
        },
        "id": "e769e413-8180-4563-8022-177c802294cb",
        "outputId": "b4bf676d-85e3-47f9-ca5a-7502efd43f4f"
      },
      "outputs": [
        {
          "output_type": "execute_result",
          "data": {
            "text/plain": [
              "Unnamed: 0                 0\n",
              "country                    0\n",
              "iso_code                   0\n",
              "date                       0\n",
              "total_vaccinations         0\n",
              "people_vaccinated          0\n",
              "people_fully_vaccinated    0\n",
              "New_deaths                 0\n",
              "population                 0\n",
              "ratio                      0\n",
              "dtype: int64"
            ]
          },
          "metadata": {},
          "execution_count": 7
        }
      ],
      "source": [
        "df.isna().sum()"
      ]
    },
    {
      "cell_type": "code",
      "execution_count": 8,
      "id": "b13dc27f-1d46-48fa-918b-5425dc3396cd",
      "metadata": {
        "colab": {
          "base_uri": "https://localhost:8080/",
          "height": 0
        },
        "id": "b13dc27f-1d46-48fa-918b-5425dc3396cd",
        "outputId": "d7b50317-a0fe-4ae6-b025-462106b7817d"
      },
      "outputs": [
        {
          "output_type": "execute_result",
          "data": {
            "text/plain": [
              "array(['Afghanistan', 'Albania', 'Algeria', 'Andorra', 'Angola',\n",
              "       'Anguilla', 'Antigua and Barbuda', 'Argentina', 'Armenia', 'Aruba',\n",
              "       'Australia', 'Austria', 'Azerbaijan', 'Bahamas', 'Bahrain',\n",
              "       'Bangladesh', 'Barbados', 'Belarus', 'Belgium', 'Belize', 'Benin',\n",
              "       'Bermuda', 'Bhutan', 'Bolivia (Plurinational State of)',\n",
              "       'Bosnia and Herzegovina', 'Botswana', 'Brazil',\n",
              "       'Brunei Darussalam', 'Bulgaria', 'Burkina Faso', 'Burundi',\n",
              "       'Cambodia', 'Cameroon', 'Canada', 'Cabo Verde', 'Cayman Islands',\n",
              "       'Central African Republic', 'Chad', 'Chile', 'China', 'Colombia',\n",
              "       'Comoros', 'Cook Islands', 'Costa Rica', 'Croatia', 'Cuba',\n",
              "       'Curaçao', 'Cyprus', 'Denmark', 'Djibouti', 'Dominica',\n",
              "       'Dominican Republic', 'Ecuador', 'Egypt', 'El Salvador',\n",
              "       'Equatorial Guinea', 'Estonia', 'Ethiopia',\n",
              "       'Falkland Islands (Malvinas)', 'Fiji', 'Finland', 'France',\n",
              "       'French Polynesia', 'Gabon', 'Gambia', 'Georgia', 'Germany',\n",
              "       'Ghana', 'Gibraltar', 'Greece', 'Greenland', 'Grenada',\n",
              "       'Guatemala', 'Guinea', 'Guinea-Bissau', 'Guyana', 'Haiti',\n",
              "       'Honduras', 'Hungary', 'Iceland', 'India', 'Indonesia',\n",
              "       'Iran (Islamic Republic of)', 'Iraq', 'Ireland', 'Israel', 'Italy',\n",
              "       'Jamaica', 'Japan', 'Jordan', 'Kazakhstan', 'Kenya', 'Kiribati',\n",
              "       'Kuwait', 'Kyrgyzstan', \"Lao People's Democratic Republic\",\n",
              "       'Latvia', 'Lebanon', 'Lesotho', 'Liberia', 'Libya',\n",
              "       'Liechtenstein', 'Lithuania', 'Luxembourg', 'Madagascar', 'Malawi',\n",
              "       'Malaysia', 'Maldives', 'Mali', 'Malta', 'Mauritania', 'Mauritius',\n",
              "       'Mexico', 'Republic of Moldova', 'Monaco', 'Mongolia',\n",
              "       'Montenegro', 'Montserrat', 'Morocco', 'Mozambique', 'Myanmar',\n",
              "       'Namibia', 'Nauru', 'Nepal', 'Netherlands', 'New Caledonia',\n",
              "       'New Zealand', 'Nicaragua', 'Niger', 'Nigeria', 'Niue',\n",
              "       'North Macedonia', 'Norway', 'Oman', 'Pakistan',\n",
              "       'occupied Palestinian territory, including east Jerusalem',\n",
              "       'Panama', 'Papua New Guinea', 'Paraguay', 'Peru', 'Philippines',\n",
              "       'Poland', 'Portugal', 'Qatar', 'Romania', 'Russian Federation',\n",
              "       'Rwanda', 'Saint Kitts and Nevis', 'Saint Lucia', 'Samoa',\n",
              "       'San Marino', 'Sao Tome and Principe', 'Saudi Arabia', 'Senegal',\n",
              "       'Serbia', 'Seychelles', 'Sierra Leone', 'Singapore', 'Slovakia',\n",
              "       'Slovenia', 'Solomon Islands', 'Somalia', 'South Africa',\n",
              "       'Republic of Korea', 'South Sudan', 'Spain', 'Sri Lanka', 'Sudan',\n",
              "       'Suriname', 'Sweden', 'Switzerland', 'Syrian Arab Republic',\n",
              "       'Tajikistan', 'United Republic of Tanzania', 'Thailand', 'Togo',\n",
              "       'Tokelau', 'Tonga', 'Trinidad and Tobago', 'Tunisia',\n",
              "       'Turkmenistan', 'Turks and Caicos Islands', 'Tuvalu', 'Uganda',\n",
              "       'Ukraine', 'United Arab Emirates', 'The United Kingdom',\n",
              "       'United States of America', 'Uruguay', 'Uzbekistan', 'Vanuatu',\n",
              "       'Venezuela (Bolivarian Republic of)', 'Viet Nam',\n",
              "       'Wallis and Futuna', 'Yemen', 'Zambia', 'Zimbabwe'], dtype=object)"
            ]
          },
          "metadata": {},
          "execution_count": 8
        }
      ],
      "source": [
        "df['country'].unique()"
      ]
    },
    {
      "cell_type": "code",
      "execution_count": 9,
      "id": "6f01d1f0-a3fc-4b20-ba94-75a8d6a5f677",
      "metadata": {
        "colab": {
          "base_uri": "https://localhost:8080/",
          "height": 0
        },
        "id": "6f01d1f0-a3fc-4b20-ba94-75a8d6a5f677",
        "outputId": "b9af2937-f88b-444d-a4a8-f69525244457"
      },
      "outputs": [
        {
          "output_type": "execute_result",
          "data": {
            "text/plain": [
              "0       7131\n",
              "1       2042\n",
              "2       1540\n",
              "3       1237\n",
              "4        962\n",
              "        ... \n",
              "1476       1\n",
              "1417       1\n",
              "1295       1\n",
              "2641       1\n",
              "770        1\n",
              "Name: New_deaths, Length: 1459, dtype: int64"
            ]
          },
          "metadata": {},
          "execution_count": 9
        }
      ],
      "source": [
        "df['New_deaths'].value_counts()"
      ]
    },
    {
      "cell_type": "markdown",
      "source": [
        "##**Aplicamos Kmeans**"
      ],
      "metadata": {
        "id": "JoYQ6pmOuiS5"
      },
      "id": "JoYQ6pmOuiS5"
    },
    {
      "cell_type": "markdown",
      "source": [
        "###Escalamos los Datos"
      ],
      "metadata": {
        "id": "eIxl4E9Gut7O"
      },
      "id": "eIxl4E9Gut7O"
    },
    {
      "cell_type": "code",
      "execution_count": 10,
      "id": "d30cc103-f0c0-4f0d-a27d-03a51b84ceca",
      "metadata": {
        "id": "d30cc103-f0c0-4f0d-a27d-03a51b84ceca"
      },
      "outputs": [],
      "source": [
        "scaler = StandardScaler()\n",
        "scaler.fit(df[['people_fully_vaccinated', 'New_deaths']])\n",
        "df_scaled = scaler.transform(df[['people_fully_vaccinated', 'New_deaths']])"
      ]
    },
    {
      "cell_type": "code",
      "execution_count": 11,
      "id": "d318f877-a5b2-4451-8de4-288c01437738",
      "metadata": {
        "id": "d318f877-a5b2-4451-8de4-288c01437738"
      },
      "outputs": [],
      "source": [
        "df_scaled = pd.DataFrame(data = df_scaled, columns = df[['people_fully_vaccinated', 'New_deaths']].columns)"
      ]
    },
    {
      "cell_type": "markdown",
      "source": [
        "##Seleccionamos variables para el modelo"
      ],
      "metadata": {
        "id": "xiajwnNbu5DT"
      },
      "id": "xiajwnNbu5DT"
    },
    {
      "cell_type": "markdown",
      "source": [
        "###Consideramos solo 2 Variables"
      ],
      "metadata": {
        "id": "vraHo3WUvCo3"
      },
      "id": "vraHo3WUvCo3"
    },
    {
      "cell_type": "code",
      "execution_count": 12,
      "id": "8aeafeae-c2c5-4a69-a9e2-3d643813c7d3",
      "metadata": {
        "id": "8aeafeae-c2c5-4a69-a9e2-3d643813c7d3"
      },
      "outputs": [],
      "source": [
        "X=df_scaled[['people_fully_vaccinated', 'New_deaths']].values"
      ]
    },
    {
      "cell_type": "markdown",
      "source": [
        "##Metodod del Codo"
      ],
      "metadata": {
        "id": "3GV-XEJnvZc6"
      },
      "id": "3GV-XEJnvZc6"
    },
    {
      "cell_type": "code",
      "execution_count": 13,
      "id": "602bfb63-6520-477c-8d34-08c1fe09ca22",
      "metadata": {
        "id": "602bfb63-6520-477c-8d34-08c1fe09ca22"
      },
      "outputs": [],
      "source": [
        "K = np.arange(1, 11)\n",
        "lista_inercias = []\n",
        "\n",
        "for i in K:\n",
        "  kmeans = KMeans(n_clusters=i, random_state=0)\n",
        "  kmeans.fit(X)\n",
        "  lista_inercias.append(kmeans.inertia_)"
      ]
    },
    {
      "cell_type": "code",
      "execution_count": 14,
      "id": "3fd89929-902a-48e5-8638-a854d45a57fe",
      "metadata": {
        "colab": {
          "base_uri": "https://localhost:8080/",
          "height": 410
        },
        "id": "3fd89929-902a-48e5-8638-a854d45a57fe",
        "outputId": "deb8cf77-285d-43bf-9860-34c9986bbb00"
      },
      "outputs": [
        {
          "output_type": "display_data",
          "data": {
            "text/plain": [
              "<Figure size 700x400 with 1 Axes>"
            ],
            "image/png": "[encoded data removed]"
          },
          "metadata": {}
        }
      ],
      "source": [
        "plt.figure(figsize = (7,4))\n",
        "plt.plot(K,lista_inercias)\n",
        "plt.scatter(K,lista_inercias,c='r')\n",
        "plt.xlabel('Cantidad de Clusters K')\n",
        "plt.ylabel('Inercia media')\n",
        "plt.title('The Elbow Method')\n",
        "plt.show()"
      ]
    },
    {
      "cell_type": "markdown",
      "source": [
        "###El quiebre lo vemos en K3"
      ],
      "metadata": {
        "id": "5vJyL2WUz8yB"
      },
      "id": "5vJyL2WUz8yB"
    },
    {
      "cell_type": "markdown",
      "source": [
        "##**Modelo**"
      ],
      "metadata": {
        "id": "dsvxO3OnvtbH"
      },
      "id": "dsvxO3OnvtbH"
    },
    {
      "cell_type": "markdown",
      "source": [
        "###Vamos a ajustar el modelo a Cluster=3"
      ],
      "metadata": {
        "id": "GacAYbW_0Hlz"
      },
      "id": "GacAYbW_0Hlz"
    },
    {
      "cell_type": "code",
      "execution_count": 15,
      "id": "5a7f7933",
      "metadata": {
        "id": "5a7f7933"
      },
      "outputs": [],
      "source": [
        "kmeansmodel = KMeans(n_clusters= 3, random_state=0)\n",
        "y_kmeans= kmeansmodel.fit_predict(X)"
      ]
    },
    {
      "cell_type": "code",
      "execution_count": 16,
      "id": "b720d775-aff4-4ea7-bde8-c3762b18dd79",
      "metadata": {
        "id": "b720d775-aff4-4ea7-bde8-c3762b18dd79"
      },
      "outputs": [],
      "source": [
        "kmeans = KMeans(n_clusters=3)"
      ]
    },
    {
      "cell_type": "code",
      "execution_count": 17,
      "id": "3d8561f2-1488-4733-a091-cdbf650657c9",
      "metadata": {
        "colab": {
          "base_uri": "https://localhost:8080/",
          "height": 75
        },
        "id": "3d8561f2-1488-4733-a091-cdbf650657c9",
        "outputId": "7aadc64a-93de-4f28-86e9-2a424b6bf036"
      },
      "outputs": [
        {
          "output_type": "execute_result",
          "data": {
            "text/plain": [
              "KMeans(n_clusters=3)"
            ],
            "text/html": [
              "<style>#sk-container-id-1 {color: black;background-color: white;}#sk-container-id-1 pre{padding: 0;}#sk-container-id-1 div.sk-toggleable {background-color: white;}#sk-container-id-1 label.sk-toggleable__label {cursor: pointer;display: block;width: 100%;margin-bottom: 0;padding: 0.3em;box-sizing: border-box;text-align: center;}#sk-container-id-1 label.sk-toggleable__label-arrow:before {content: \"▸\";float: left;margin-right: 0.25em;color: #696969;}#sk-container-id-1 label.sk-toggleable__label-arrow:hover:before {color: black;}#sk-container-id-1 div.sk-estimator:hover label.sk-toggleable__label-arrow:before {color: black;}#sk-container-id-1 div.sk-toggleable__content {max-height: 0;max-width: 0;overflow: hidden;text-align: left;background-color: #f0f8ff;}#sk-container-id-1 div.sk-toggleable__content pre {margin: 0.2em;color: black;border-radius: 0.25em;background-color: #f0f8ff;}#sk-container-id-1 input.sk-toggleable__control:checked~div.sk-toggleable__content {max-height: 200px;max-width: 100%;overflow: auto;}#sk-container-id-1 input.sk-toggleable__control:checked~label.sk-toggleable__label-arrow:before {content: \"▾\";}#sk-container-id-1 div.sk-estimator input.sk-toggleable__control:checked~label.sk-toggleable__label {background-color: #d4ebff;}#sk-container-id-1 div.sk-label input.sk-toggleable__control:checked~label.sk-toggleable__label {background-color: #d4ebff;}#sk-container-id-1 input.sk-hidden--visually {border: 0;clip: rect(1px 1px 1px 1px);clip: rect(1px, 1px, 1px, 1px);height: 1px;margin: -1px;overflow: hidden;padding: 0;position: absolute;width: 1px;}#sk-container-id-1 div.sk-estimator {font-family: monospace;background-color: #f0f8ff;border: 1px dotted black;border-radius: 0.25em;box-sizing: border-box;margin-bottom: 0.5em;}#sk-container-id-1 div.sk-estimator:hover {background-color: #d4ebff;}#sk-container-id-1 div.sk-parallel-item::after {content: \"\";width: 100%;border-bottom: 1px solid gray;flex-grow: 1;}#sk-container-id-1 div.sk-label:hover label.sk-toggleable__label {background-color: #d4ebff;}#sk-container-id-1 div.sk-serial::before {content: \"\";position: absolute;border-left: 1px solid gray;box-sizing: border-box;top: 0;bottom: 0;left: 50%;z-index: 0;}#sk-container-id-1 div.sk-serial {display: flex;flex-direction: column;align-items: center;background-color: white;padding-right: 0.2em;padding-left: 0.2em;position: relative;}#sk-container-id-1 div.sk-item {position: relative;z-index: 1;}#sk-container-id-1 div.sk-parallel {display: flex;align-items: stretch;justify-content: center;background-color: white;position: relative;}#sk-container-id-1 div.sk-item::before, #sk-container-id-1 div.sk-parallel-item::before {content: \"\";position: absolute;border-left: 1px solid gray;box-sizing: border-box;top: 0;bottom: 0;left: 50%;z-index: -1;}#sk-container-id-1 div.sk-parallel-item {display: flex;flex-direction: column;z-index: 1;position: relative;background-color: white;}#sk-container-id-1 div.sk-parallel-item:first-child::after {align-self: flex-end;width: 50%;}#sk-container-id-1 div.sk-parallel-item:last-child::after {align-self: flex-start;width: 50%;}#sk-container-id-1 div.sk-parallel-item:only-child::after {width: 0;}#sk-container-id-1 div.sk-dashed-wrapped {border: 1px dashed gray;margin: 0 0.4em 0.5em 0.4em;box-sizing: border-box;padding-bottom: 0.4em;background-color: white;}#sk-container-id-1 div.sk-label label {font-family: monospace;font-weight: bold;display: inline-block;line-height: 1.2em;}#sk-container-id-1 div.sk-label-container {text-align: center;}#sk-container-id-1 div.sk-container {/* jupyter's `normalize.less` sets `[hidden] { display: none; }` but bootstrap.min.css set `[hidden] { display: none !important; }` so we also need the `!important` here to be able to override the default hidden behavior on the sphinx rendered scikit-learn.org. See: https://github.com/scikit-learn/scikit-learn/issues/21755 */display: inline-block !important;position: relative;}#sk-container-id-1 div.sk-text-repr-fallback {display: none;}</style><div id=\"sk-container-id-1\" class=\"sk-top-container\"><div class=\"sk-text-repr-fallback\"><pre>KMeans(n_clusters=3)</pre><b>In a Jupyter environment, please rerun this cell to show the HTML representation or trust the notebook. <br />On GitHub, the HTML representation is unable to render, please try loading this page with nbviewer.org.</b></div><div class=\"sk-container\" hidden><div class=\"sk-item\"><div class=\"sk-estimator sk-toggleable\"><input class=\"sk-toggleable__control sk-hidden--visually\" id=\"sk-estimator-id-1\" type=\"checkbox\" checked><label for=\"sk-estimator-id-1\" class=\"sk-toggleable__label sk-toggleable__label-arrow\">KMeans</label><div class=\"sk-toggleable__content\"><pre>KMeans(n_clusters=3)</pre></div></div></div></div></div>"
            ]
          },
          "metadata": {},
          "execution_count": 17
        }
      ],
      "source": [
        "kmeans.fit(X)"
      ]
    },
    {
      "cell_type": "code",
      "execution_count": 18,
      "id": "4875bd18-e164-4dbc-9e4f-e18cb96de44e",
      "metadata": {
        "colab": {
          "base_uri": "https://localhost:8080/",
          "height": 0
        },
        "id": "4875bd18-e164-4dbc-9e4f-e18cb96de44e",
        "outputId": "966e9fee-c498-45df-92f6-1b95282e2270"
      },
      "outputs": [
        {
          "output_type": "execute_result",
          "data": {
            "text/plain": [
              "array([0, 1, 2], dtype=int32)"
            ]
          },
          "metadata": {},
          "execution_count": 18
        }
      ],
      "source": [
        "etiquetas_kmeans = kmeansmodel.labels_\n",
        "np.unique(etiquetas_kmeans)"
      ]
    },
    {
      "cell_type": "markdown",
      "source": [
        "##Centroides"
      ],
      "metadata": {
        "id": "QFKCWGvsv-Pp"
      },
      "id": "QFKCWGvsv-Pp"
    },
    {
      "cell_type": "code",
      "execution_count": 19,
      "id": "2b3931cc-be14-4194-ac7e-c7ccc37e3da8",
      "metadata": {
        "colab": {
          "base_uri": "https://localhost:8080/",
          "height": 0
        },
        "id": "2b3931cc-be14-4194-ac7e-c7ccc37e3da8",
        "outputId": "96f5ccf9-1d19-44b7-d226-0539363efa65"
      },
      "outputs": [
        {
          "output_type": "stream",
          "name": "stdout",
          "text": [
            "[[-0.0799872  -0.11813436]\n",
            " [ 1.10099123  5.71541841]\n",
            " [12.01208146  0.80302051]]\n"
          ]
        }
      ],
      "source": [
        "centros = kmeansmodel.cluster_centers_\n",
        "print(centros)"
      ]
    },
    {
      "cell_type": "markdown",
      "source": [
        "###Visualizamos los Clusters"
      ],
      "metadata": {
        "id": "G9EuobQkwE98"
      },
      "id": "G9EuobQkwE98"
    },
    {
      "cell_type": "code",
      "execution_count": 20,
      "id": "fdfd8424-182e-4da6-92d0-5201f60c8fe1",
      "metadata": {
        "colab": {
          "base_uri": "https://localhost:8080/",
          "height": 472
        },
        "id": "fdfd8424-182e-4da6-92d0-5201f60c8fe1",
        "outputId": "a1a3c93a-7e62-4fb5-a9e9-209e8a2cb512"
      },
      "outputs": [
        {
          "output_type": "display_data",
          "data": {
            "text/plain": [
              "<Figure size 640x480 with 1 Axes>"
            ],
            "image/png": "[encoded data removed]"
          },
          "metadata": {}
        }
      ],
      "source": [
        "\n",
        "\n",
        "plt.scatter(X[y_kmeans == 0, 0], X[y_kmeans == 0, 1], s = 100, c = 'red', label = 'Cluster 1')\n",
        "plt.scatter(X[y_kmeans == 1, 0], X[y_kmeans == 1, 1], s = 100, c = 'blue', label = 'Cluster 2')\n",
        "plt.scatter(X[y_kmeans == 2, 0], X[y_kmeans == 2, 1], s = 100, c = 'green', label = 'Cluster 3')\n",
        "\n",
        "plt.scatter(kmeansmodel.cluster_centers_[:, 0], kmeansmodel.cluster_centers_[:, 1], s = 300, c = 'yellow', label = 'Centroids')\n",
        "plt.title('Clusters de muertes COVID')\n",
        "plt.xlabel('people_fully_vaccinated')\n",
        "plt.ylabel('New_deaths')\n",
        "plt.legend()\n",
        "plt.show()"
      ]
    },
    {
      "cell_type": "markdown",
      "id": "b4495590-d382-4980-b616-a3960b5d67d3",
      "metadata": {
        "id": "b4495590-d382-4980-b616-a3960b5d67d3"
      },
      "source": [
        "##Interpretación del modelo con K-means\n",
        "\n",
        "**Cluster 1 (rojo)**: poca poblacion totalmente vacunada y\n",
        "pocas muertes por COVID\n",
        "\n",
        "**Cluster 2 (azul)** : menos poblacion totalmente vacunada y mas muertes por COVID\n",
        "\n",
        "**Cluster 3 (verde)** : mas poblacion totalmente vacunada y menos muertes por COVID\n",
        "\n"
      ]
    },
    {
      "cell_type": "markdown",
      "source": [
        "##Metodo Silhouette"
      ],
      "metadata": {
        "id": "DE5xIx8mwn4n"
      },
      "id": "DE5xIx8mwn4n"
    },
    {
      "cell_type": "code",
      "execution_count": 21,
      "id": "137b3b6e-b2af-4200-a108-1f7bbd6e881a",
      "metadata": {
        "id": "137b3b6e-b2af-4200-a108-1f7bbd6e881a"
      },
      "outputs": [],
      "source": [
        "from sklearn.metrics import silhouette_score"
      ]
    },
    {
      "cell_type": "code",
      "execution_count": 22,
      "id": "1c053386-65eb-42db-8a04-c2d590d262e6",
      "metadata": {
        "colab": {
          "base_uri": "https://localhost:8080/",
          "height": 0
        },
        "id": "1c053386-65eb-42db-8a04-c2d590d262e6",
        "outputId": "25a1b1ce-7340-4385-9ea4-f2d1aeec0fa7"
      },
      "outputs": [
        {
          "output_type": "stream",
          "name": "stdout",
          "text": [
            "Coeficiente de Silueta para KMeans:  0.9054073079349497\n"
          ]
        }
      ],
      "source": [
        "silhouette_coef = silhouette_score(X, etiquetas_kmeans)\n",
        "print(\"Coeficiente de Silueta para KMeans: \", silhouette_coef)"
      ]
    },
    {
      "cell_type": "markdown",
      "id": "8e59e3b9-cbce-4a04-8101-f9b56da1fec1",
      "metadata": {
        "id": "8e59e3b9-cbce-4a04-8101-f9b56da1fec1"
      },
      "source": [
        "###Nos da un coeficiente de 0.90, por lo que esto nos indicaría que tenemos una buena separación entre los clusters."
      ]
    },
    {
      "cell_type": "code",
      "execution_count": null,
      "id": "ac9551a5-5df3-4ef1-8bcb-a0a408d2ef62",
      "metadata": {
        "id": "ac9551a5-5df3-4ef1-8bcb-a0a408d2ef62"
      },
      "outputs": [],
      "source": [
        "K = np.arange(2,10)\n",
        "lista_silueta = []\n",
        "for i in K:\n",
        "  kmeans_silueta = KMeans(n_clusters = i, random_state = 0)\n",
        "  kmeans_silueta.fit(X)\n",
        "  lista_silueta.append(silhouette_score(X, kmeans_silueta.labels_))"
      ]
    },
    {
      "cell_type": "code",
      "execution_count": null,
      "id": "4ebef310-3d52-4f4b-b281-bb41aecc1448",
      "metadata": {
        "id": "4ebef310-3d52-4f4b-b281-bb41aecc1448"
      },
      "outputs": [],
      "source": [
        "plt.plot(range(2,11),sil, c=\"#c51b7d\")\n",
        "plt.gca().spines[\"top\"].set_visible(False)\n",
        "plt.gca().spines[\"right\"].set_visible(False)\n",
        "plt.title('Metodo Silhouette', size=14)\n",
        "plt.xlabel('Numero de clusters', size=12)\n",
        "plt.ylabel('Puntaje de Silhouette', size=14)\n",
        "plt.show()"
      ]
    },
    {
      "cell_type": "markdown",
      "id": "4be2dc23-b0ac-4760-8ded-330db5705c03",
      "metadata": {
        "id": "4be2dc23-b0ac-4760-8ded-330db5705c03"
      },
      "source": [
        "#⚛Conclusion"
      ]
    },
    {
      "cell_type": "markdown",
      "id": "2faf6493-bc2b-4a84-b524-bd0422337db5",
      "metadata": {
        "id": "2faf6493-bc2b-4a84-b524-bd0422337db5"
      },
      "source": [
        "Con el metodo K Mean podemos dividir los paises en grupos segun cantidad de muertes y poblacion con vacunacion total.\n",
        "Esto nos permite poder realizar análisis al interior de los grupos sobre que factores incidieron en las muertes por COVID mas alla de la vacunación por ejemplo el estado del sistema sanitario, las políticas implementadas, entre otros."
      ]
    },
    {
      "cell_type": "code",
      "execution_count": null,
      "id": "3ef2a42b-566c-413b-8860-95ef31c065f1",
      "metadata": {
        "id": "3ef2a42b-566c-413b-8860-95ef31c065f1"
      },
      "outputs": [],
      "source": []
    }
  ],
  "metadata": {
    "kernelspec": {
      "display_name": "Python 3 (ipykernel)",
      "language": "python",
      "name": "python3"
    },
    "language_info": {
      "codemirror_mode": {
        "name": "ipython",
        "version": 3
      },
      "file_extension": ".py",
      "mimetype": "text/x-python",
      "name": "python",
      "nbconvert_exporter": "python",
      "pygments_lexer": "ipython3",
      "version": "3.10.9"
    },
    "colab": {
      "provenance": []
    }
  },
  "nbformat": 4,
  "nbformat_minor": 5
}